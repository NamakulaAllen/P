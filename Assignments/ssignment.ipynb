{
 "cells": [
  {
   "cell_type": "code",
   "execution_count": 1,
   "metadata": {},
   "outputs": [],
   "source": [
    "import numpy as np"
   ]
  },
  {
   "cell_type": "code",
   "execution_count": 3,
   "metadata": {},
   "outputs": [
    {
     "name": "stdout",
     "output_type": "stream",
     "text": [
      "[2 3 4 7]\n",
      "[[2 3]\n",
      " [4 7]]\n",
      "2.0\n"
     ]
    }
   ],
   "source": [
    "#Creating a numpy vector\n",
    "vector=np.array([2,3,4,7])\n",
    "\n",
    "#vector into a 2x2 matrix\n",
    "matrix = vector.reshape(2,2)\n",
    "\n",
    "#Calculating the determinant\n",
    "determinant = np.linalg.det(matrix)\n",
    "print(vector)\n",
    "print(matrix)\n",
    "print (determinant)"
   ]
  },
  {
   "cell_type": "code",
   "execution_count": 4,
   "metadata": {},
   "outputs": [
    {
     "name": "stdout",
     "output_type": "stream",
     "text": [
      "Original array:\n",
      "[[1 2]\n",
      " [3 4]]\n",
      "Determinant of the said array:\n"
     ]
    }
   ],
   "source": [
    "\n",
    "a = np.array([[1,2],[3,4]])\n",
    "print(\"Original array:\")\n",
    "print(a)\n",
    "result =  np.linalg.det(a)\n",
    "print(\"Determinant of the said array:\")"
   ]
  },
  {
   "cell_type": "code",
   "execution_count": 5,
   "metadata": {},
   "outputs": [
    {
     "name": "stdout",
     "output_type": "stream",
     "text": [
      "[2.44948974 2.82842712 1.73205081 1.41421356 3.        ]\n"
     ]
    }
   ],
   "source": [
    "vector = np.array([6, 8, 3, 2, 9])\n",
    "result = np.sqrt(vector)\n",
    "print(result)"
   ]
  },
  {
   "cell_type": "code",
   "execution_count": 9,
   "metadata": {},
   "outputs": [
    {
     "name": "stdout",
     "output_type": "stream",
     "text": [
      "[[1 2]\n",
      " [3 4]]\n",
      "-2.0000000000000004\n"
     ]
    }
   ],
   "source": [
    "import numpy as np\n",
    "a = np.array([[1,2],[3,4]])\n",
    "print(a)\n",
    "result =  np.linalg.det(a)\n",
    "print(result)"
   ]
  },
  {
   "cell_type": "code",
   "execution_count": 1,
   "metadata": {},
   "outputs": [
    {
     "ename": "SyntaxError",
     "evalue": "invalid syntax. Perhaps you forgot a comma? (3422891888.py, line 4)",
     "output_type": "error",
     "traceback": [
      "\u001b[1;36m  Cell \u001b[1;32mIn[1], line 4\u001b[1;36m\u001b[0m\n\u001b[1;33m    result = [[scalar element for element in row]row in matrix]\u001b[0m\n\u001b[1;37m               ^\u001b[0m\n\u001b[1;31mSyntaxError\u001b[0m\u001b[1;31m:\u001b[0m invalid syntax. Perhaps you forgot a comma?\n"
     ]
    }
   ],
   "source": [
    "#Scalar multiplication\n",
    "scalar = 5\n",
    "matrix = [[1,2,3],[4,5,6],[7,8,9]]\n",
    "result = [[scalar element for element in row]row in matrix]\n",
    "for row in result:\n",
    "    print(row)"
   ]
  },
  {
   "cell_type": "code",
   "execution_count": null,
   "metadata": {},
   "outputs": [],
   "source": []
  },
  {
   "cell_type": "markdown",
   "metadata": {},
   "source": [
    "REFERENCES\n",
    "https://www.w3resource.com/python-exercises/numpy/linear-algebra/numpy-linear-algebra-exercise-11.php\n",
    "https://www.oreilly.com/library/view/machine-learning-with/9781491989371/ch01.html"
   ]
  }
 ],
 "metadata": {
  "kernelspec": {
   "display_name": "Python 3",
   "language": "python",
   "name": "python3"
  },
  "language_info": {
   "codemirror_mode": {
    "name": "ipython",
    "version": 3
   },
   "file_extension": ".py",
   "mimetype": "text/x-python",
   "name": "python",
   "nbconvert_exporter": "python",
   "pygments_lexer": "ipython3",
   "version": "3.11.5"
  },
  "orig_nbformat": 4
 },
 "nbformat": 4,
 "nbformat_minor": 2
}
